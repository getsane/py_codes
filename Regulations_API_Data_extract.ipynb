{
 "cells": [
  {
   "cell_type": "markdown",
   "metadata": {},
   "source": [
    "### Code for extracting data via API from Regulations.gov \n",
    "#### Author: Sandeep\n",
    "Thu 20 Sep 2017 03:20 PM EST"
   ]
  },
  {
   "cell_type": "markdown",
   "metadata": {},
   "source": [
    "**Title of the Example Regulation used**\n",
    "\n",
    "International Drug Scheduling; Convention on Psychotropic Substances; Single Convention on Narcotic Drugs; Ocfentanil, Carfentanil, Pregabalin, Tramadol, Cannabidiol, Ketamine, and Eleven Other Substances; Request for Comments\n"
   ]
  },
  {
   "cell_type": "code",
   "execution_count": 139,
   "metadata": {
    "collapsed": true
   },
   "outputs": [],
   "source": [
    "# modules imported\n",
    "import requests as rq\n",
    "import pandas as pd\n",
    "import numpy as np\n",
    "import json as js"
   ]
  },
  {
   "cell_type": "code",
   "execution_count": null,
   "metadata": {
    "collapsed": true
   },
   "outputs": [],
   "source": [
    "\n",
    "# change this url for other requests\n",
    "regurl_base = 'https://api.data.gov/regulations/v3/documents'\n",
    "api = 'VMXKcPf6MelG3qKCabiajcRcEoJvngQSJP3Y1Yki' # sandeep's api\n",
    "doc_num = 'FDA-2017-N-4515'\n",
    "filetype = 'json'"
   ]
  },
  {
   "cell_type": "code",
   "execution_count": 141,
   "metadata": {
    "collapsed": false
   },
   "outputs": [],
   "source": [
    "# function to allow changing API key, etc. not flexible enough to extract from any other API\n",
    "\n",
    "def url_maker():\n",
    "    url_name = regurl_base+'.'+filetype+'?api_key='+api+'&D='+doc_num\n",
    "    return url_name\n",
    "\n"
   ]
  },
  {
   "cell_type": "code",
   "execution_count": null,
   "metadata": {
    "collapsed": true
   },
   "outputs": [],
   "source": [
    "# requests data from the api and puts in pandas data frame\n",
    "\n",
    "def data_getter():\n",
    "    res1 = rq.get(url_maker())\n",
    "    data = res1.json()\n",
    "    return pd.DataFrame(data.get('documents'))"
   ]
  },
  {
   "cell_type": "code",
   "execution_count": 5,
   "metadata": {
    "collapsed": false
   },
   "outputs": [],
   "source": [
    "# calling data_getter\n",
    "dat1 = data_getter()"
   ]
  },
  {
   "cell_type": "code",
   "execution_count": 185,
   "metadata": {
    "collapsed": false
   },
   "outputs": [
    {
     "data": {
      "text/html": [
       "<div>\n",
       "<table border=\"1\" class=\"dataframe\">\n",
       "  <thead>\n",
       "    <tr style=\"text-align: right;\">\n",
       "      <th></th>\n",
       "      <th>commentDueDate</th>\n",
       "      <th>commentText</th>\n",
       "    </tr>\n",
       "  </thead>\n",
       "  <tbody>\n",
       "    <tr>\n",
       "      <th>0</th>\n",
       "      <td>2017-09-13T23:59:59-04:00</td>\n",
       "      <td>It is important that the FDA ease restrictions...</td>\n",
       "    </tr>\n",
       "    <tr>\n",
       "      <th>1</th>\n",
       "      <td>2017-09-13T23:59:59-04:00</td>\n",
       "      <td>This comment is being made in favor Cannabidio...</td>\n",
       "    </tr>\n",
       "    <tr>\n",
       "      <th>2</th>\n",
       "      <td>2017-09-13T23:59:59-04:00</td>\n",
       "      <td>HEMP CBD IS NOT TO BE LUMPED IN WITH ANY OTHER...</td>\n",
       "    </tr>\n",
       "    <tr>\n",
       "      <th>3</th>\n",
       "      <td>2017-09-13T23:59:59-04:00</td>\n",
       "      <td>I think CBDs have many beneficial effects and ...</td>\n",
       "    </tr>\n",
       "    <tr>\n",
       "      <th>4</th>\n",
       "      <td>2017-09-13T23:59:59-04:00</td>\n",
       "      <td>This comment is in regard to cannabidiol and i...</td>\n",
       "    </tr>\n",
       "    <tr>\n",
       "      <th>5</th>\n",
       "      <td>2017-09-13T23:59:59-04:00</td>\n",
       "      <td>My husband and I have been taking Hemp Oil for...</td>\n",
       "    </tr>\n",
       "  </tbody>\n",
       "</table>\n",
       "</div>"
      ],
      "text/plain": [
       "              commentDueDate  \\\n",
       "0  2017-09-13T23:59:59-04:00   \n",
       "1  2017-09-13T23:59:59-04:00   \n",
       "2  2017-09-13T23:59:59-04:00   \n",
       "3  2017-09-13T23:59:59-04:00   \n",
       "4  2017-09-13T23:59:59-04:00   \n",
       "5  2017-09-13T23:59:59-04:00   \n",
       "\n",
       "                                         commentText  \n",
       "0  It is important that the FDA ease restrictions...  \n",
       "1  This comment is being made in favor Cannabidio...  \n",
       "2  HEMP CBD IS NOT TO BE LUMPED IN WITH ANY OTHER...  \n",
       "3  I think CBDs have many beneficial effects and ...  \n",
       "4  This comment is in regard to cannabidiol and i...  \n",
       "5  My husband and I have been taking Hemp Oil for...  "
      ]
     },
     "execution_count": 185,
     "metadata": {},
     "output_type": "execute_result"
    }
   ],
   "source": [
    "dat1.loc[:5,['commentDueDate','commentText']]"
   ]
  },
  {
   "cell_type": "code",
   "execution_count": null,
   "metadata": {
    "collapsed": true
   },
   "outputs": [],
   "source": [
    "for val in np.arange(1,data.get('totalNumRecords'):\n",
    "    for items in data.get('documents')[val].keys():\n",
    "        a.append(data.get('documents')[0].get(items))"
   ]
  }
 ],
 "metadata": {
  "kernelspec": {
   "display_name": "Python 3",
   "language": "python",
   "name": "python3"
  },
  "language_info": {
   "codemirror_mode": {
    "name": "ipython",
    "version": 3
   },
   "file_extension": ".py",
   "mimetype": "text/x-python",
   "name": "python",
   "nbconvert_exporter": "python",
   "pygments_lexer": "ipython3",
   "version": "3.6.0"
  }
 },
 "nbformat": 4,
 "nbformat_minor": 2
}
