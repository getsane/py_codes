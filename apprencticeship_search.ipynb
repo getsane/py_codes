{
 "cells": [
  {
   "cell_type": "code",
   "execution_count": null,
   "metadata": {
    "collapsed": true
   },
   "outputs": [],
   "source": [
    "import pandas as pd\n",
    "import nltk\n",
    "import re, pprint\n",
    "from nltk import word_tokenize"
   ]
  },
  {
   "cell_type": "code",
   "execution_count": 185,
   "metadata": {
    "collapsed": false
   },
   "outputs": [],
   "source": [
    "egt={1:\"West Aurora School District 129, together with support of the United States Department of Labor and the American Health Information Management Association Foundation, have developed Illinois's first Federally Registered Apprenticeship Program in a health field at the secondary education level. The apprenticeship program will focus on assisting high school graduates with Certified Nursing Assistant credentials by advancing their skills and assisting students with the transition from being a student to becoming a highly skilled employee. Local employers will provide graduates with full-time employment and a mentor who will work with district staff to monitor skill development and provide support. West Aurora School District 129 will be supporting its students past graduation through a Registered Apprenticeship program. This program will focus on bringing employers, community members and education together for successful student transition and extended skill development - Cynthia Garcia, Director of Extended Learning and Career Pathways. The apprenticeship program will provide apprentices with transition support of various kinds through district staff and a mentor provided by the employer. District 129 will provide the required training for the apprenticeship program before students graduate from high school to make their transition year as a new employee manageable. Upon completion of the apprenticeship, the apprentice will receive tuition assistance to support lifelong learning and a Completion Certificate from the U.S. Department of Labor, Office of Apprenticeship. Partnering employers will have the opportunity to assist these apprentices by increasing their mastery of needed skills to work as a CNA. The benefit for the partnering employer is a highly skilled and competent staff that provides quality individualized care for their residence. Employers will also receive a certificate from the U.S. Department of Labor, Office of Apprenticeship showing they are a Federally Registered Apprenticeship Training site and an education partner.\"}"
   ]
  },
  {
   "cell_type": "markdown",
   "metadata": {
    "collapsed": true
   },
   "source": [
    "## Basic strategy:\n",
    "- Obtain the named entities in the articles\n",
    "- collocation of \"organize\" or its synonyms with \"apprenticeship\" or NE"
   ]
  },
  {
   "cell_type": "code",
   "execution_count": null,
   "metadata": {
    "collapsed": true
   },
   "outputs": [],
   "source": [
    "def inpreprocess(document):\n",
    "    sentences = nltk.sent_tokenize(document)\n",
    "    sentences = [nltk.word_tokenize(sent) for sent in sentences]\n",
    "    sentences = [nltk.pos_tag(sent) for sent in sentences]\n",
    "    return sentences"
   ]
  },
  {
   "cell_type": "code",
   "execution_count": null,
   "metadata": {
    "collapsed": false
   },
   "outputs": [],
   "source": [
    "from nltk.chunk.regexp import tag_pattern2re_pattern"
   ]
  },
  {
   "cell_type": "code",
   "execution_count": null,
   "metadata": {
    "collapsed": false
   },
   "outputs": [],
   "source": [
    "tag_pattern2re_pattern('<DT>?<JJ.>?*<NN.>*<developed>*<JJ.*>?*<NN.*>')"
   ]
  },
  {
   "cell_type": "code",
   "execution_count": null,
   "metadata": {
    "collapsed": false
   },
   "outputs": [],
   "source": [
    "grammar = \"NP: {<DT>?<JJ.>*<NN.*>+}\" # This structure seems to work well\n",
    "#grammar = \"NP: {<DT>?<JJ.>?*<NN.>*<.*>*<JJ.*>*<NN.*>+} \" #{<DT>?<NN.><JJ.>?*<.*><JJ.*>?*<NN.*>}\n",
    "# This structure seems to work well"
   ]
  },
  {
   "cell_type": "code",
   "execution_count": null,
   "metadata": {
    "collapsed": false
   },
   "outputs": [],
   "source": [
    "cp = nltk.RegexpParser(grammar)"
   ]
  },
  {
   "cell_type": "code",
   "execution_count": null,
   "metadata": {
    "collapsed": false
   },
   "outputs": [],
   "source": [
    "def letter_parser(letter):\n",
    "    '''\n",
    "    input - letter is a dict \n",
    "    output - is a dict of dict with all NP from a letter\n",
    "    \n",
    "    '''\n",
    "    dat = dict() \n",
    "    \n",
    "    let_id = list(egt.items())[0][0]\n",
    "    let_val = list(egt.items())[0][1]\n",
    "    \n",
    "    eg=inpreprocess(let_val)  # processing the letter\n",
    "    dt = []\n",
    "    for it1 in eg:\n",
    "        \n",
    "        result = cp.parse(it1)\n",
    "        for items in range(len(result)):\n",
    "            print(ne_chunk(result[items]))\n",
    "            if hasattr(result[items],'label'):\n",
    "                if(result[items]).label()=='NP':\n",
    "                    dt.append(result[items])\n",
    "    dat[let_id]=dt\n",
    "    \n",
    "    return dat"
   ]
  },
  {
   "cell_type": "code",
   "execution_count": null,
   "metadata": {
    "collapsed": false
   },
   "outputs": [],
   "source": [
    "letter_parser(egt)"
   ]
  },
  {
   "cell_type": "code",
   "execution_count": null,
   "metadata": {
    "collapsed": false
   },
   "outputs": [],
   "source": [
    "eg[1]"
   ]
  },
  {
   "cell_type": "markdown",
   "metadata": {
    "collapsed": true
   },
   "source": [
    "## Named entity recognition"
   ]
  },
  {
   "cell_type": "code",
   "execution_count": 217,
   "metadata": {
    "collapsed": true
   },
   "outputs": [],
   "source": [
    "import pandas as pd"
   ]
  },
  {
   "cell_type": "code",
   "execution_count": 219,
   "metadata": {
    "collapsed": false
   },
   "outputs": [],
   "source": [
    "from nltk.chunk import ne_chunk\n",
    "from nltk.chunk.regexp import ChunkString"
   ]
  },
  {
   "cell_type": "code",
   "execution_count": 200,
   "metadata": {
    "collapsed": false
   },
   "outputs": [],
   "source": [
    "def sub_leaves(tree, label):\n",
    "    return [t.leaves() for t in tree.subtrees(lambda s: s.label() == label)]"
   ]
  },
  {
   "cell_type": "code",
   "execution_count": 289,
   "metadata": {
    "collapsed": true
   },
   "outputs": [],
   "source": [
    "mygrammar = \"NP: {<NNP>+}\""
   ]
  },
  {
   "cell_type": "code",
   "execution_count": 333,
   "metadata": {
    "collapsed": false
   },
   "outputs": [],
   "source": [
    "def nerTest(mydataframe, grammar):\n",
    "    '''\n",
    "    input - pandas dataframe \n",
    "    output - is a dict of dict with all NP from a letter\n",
    "    \n",
    "    '''\n",
    "    dat = dict() \n",
    "    dat_per = dict()\n",
    "    cp = nltk.RegexpParser(grammar)\n",
    "    \n",
    "    for ind in mydataframe.index:\n",
    "        let_id = ind\n",
    "        let_val = mydataframe.loc[ind,'Article Text']\n",
    "    \n",
    "        eg=inpreprocess(let_val)  # processing the letter\n",
    "        dt = []\n",
    "        dt1 = []\n",
    "        for it1 in eg:\n",
    "            result = cp.parse(it1)\n",
    "            for items in range(len(result)):\n",
    "            #print(result[items]) #\n",
    "                if hasattr(result[items],'label'):\n",
    "                    if(result[items]).label()=='NP':\n",
    "                        tree1=ne_chunk(result[items]) #,binary=True)\n",
    "                        sl = sub_leaves(tree1,'ORGANIZATION')\n",
    "                        print(sl)\n",
    "                        break\n",
    "                        sl2 = sub_leaves(tree1,'PERSON')\n",
    "                        if sl != []:\n",
    "                            dt.append(sl)\n",
    "                        if sl2 != []:\n",
    "                            dt1.append(sl2)\n",
    "        dat[let_id]=dt\n",
    "        dat_per[let_id]=dt1\n",
    "    \n",
    "    return (dat,dat_per)"
   ]
  },
  {
   "cell_type": "markdown",
   "metadata": {},
   "source": [
    "## Implementing on \"Articles.csv\" data"
   ]
  },
  {
   "cell_type": "code",
   "execution_count": 248,
   "metadata": {
    "collapsed": true
   },
   "outputs": [],
   "source": [
    "dat=pd.read_csv(\"articles.csv\", sep =',', encoding = 'latin-1')"
   ]
  },
  {
   "cell_type": "code",
   "execution_count": 323,
   "metadata": {
    "collapsed": true
   },
   "outputs": [],
   "source": [
    "dat2=dat.head(5)"
   ]
  },
  {
   "cell_type": "code",
   "execution_count": 335,
   "metadata": {
    "collapsed": true
   },
   "outputs": [],
   "source": [
    "a=[[('Palmgren', 'NNP')]]"
   ]
  },
  {
   "cell_type": "code",
   "execution_count": 294,
   "metadata": {
    "collapsed": true
   },
   "outputs": [],
   "source": [
    "org1, per = nerTest(dat,mygrammar)"
   ]
  },
  {
   "cell_type": "code",
   "execution_count": 311,
   "metadata": {
    "collapsed": false
   },
   "outputs": [],
   "source": [
    "org_dat=pd.DataFrame.from_dict(org1, orient='index')"
   ]
  },
  {
   "cell_type": "code",
   "execution_count": 312,
   "metadata": {
    "collapsed": false
   },
   "outputs": [],
   "source": [
    "org_dat.to_csv('org_names.csv')"
   ]
  },
  {
   "cell_type": "code",
   "execution_count": 306,
   "metadata": {
    "collapsed": false
   },
   "outputs": [],
   "source": [
    "a= org1[0][0]"
   ]
  },
  {
   "cell_type": "code",
   "execution_count": null,
   "metadata": {
    "collapsed": true
   },
   "outputs": [],
   "source": []
  }
 ],
 "metadata": {
  "kernelspec": {
   "display_name": "Python 3",
   "language": "python",
   "name": "python3"
  },
  "language_info": {
   "codemirror_mode": {
    "name": "ipython",
    "version": 3
   },
   "file_extension": ".py",
   "mimetype": "text/x-python",
   "name": "python",
   "nbconvert_exporter": "python",
   "pygments_lexer": "ipython3",
   "version": "3.6.0"
  }
 },
 "nbformat": 4,
 "nbformat_minor": 2
}
